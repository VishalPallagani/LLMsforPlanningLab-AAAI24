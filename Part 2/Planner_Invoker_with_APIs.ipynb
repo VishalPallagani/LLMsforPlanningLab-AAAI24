{
  "nbformat": 4,
  "nbformat_minor": 0,
  "metadata": {
    "colab": {
      "provenance": []
    },
    "kernelspec": {
      "name": "python3",
      "display_name": "Python 3"
    },
    "language_info": {
      "name": "python"
    }
  },
  "cells": [
    {
      "cell_type": "markdown",
      "source": [
        "This code is part of the lab forum at AAAI-24 on \"**Harnessing Large Language Models for Planning:** A Lab on Strategies for Success and Mitigation of Pitfalls.\n",
        "\n",
        "In this code, we will see how to invoke a planner using API calls from planning.domains"
      ],
      "metadata": {
        "id": "aPevmJ0vrxAB"
      }
    },
    {
      "cell_type": "code",
      "execution_count": null,
      "metadata": {
        "id": "gy_NO9TurndZ"
      },
      "outputs": [],
      "source": [
        "# Created by Biplav Srivastava\n",
        "# See more examples of problems in:\n",
        "# - https://github.com/AI-Planning/classical-domains/tree/main/classical\n",
        "# - https://github.com/ai4society/planning-resources/tree/main/hanoi"
      ]
    },
    {
      "cell_type": "code",
      "source": [
        "# Based on http://solver.planning.domains/\n",
        "import requests"
      ],
      "metadata": {
        "id": "j13MC5CbswEI"
      },
      "execution_count": null,
      "outputs": []
    },
    {
      "cell_type": "code",
      "source": [
        "# domains from - https://github.com/AI-Planning/classical-domains/tree/master/classical/blocks\n",
        "# stored locally\n",
        "domain_file = \"data/domain-elev.pddl\"\n",
        "problem_file = \"data/problem-elev.pddl\"\n",
        "output_file = \"data/plan.txt\""
      ],
      "metadata": {
        "id": "J5kAZDfmsx_N"
      },
      "execution_count": null,
      "outputs": []
    },
    {
      "cell_type": "code",
      "source": [
        "import requests, sys"
      ],
      "metadata": {
        "id": "v08EEKyssykn"
      },
      "execution_count": null,
      "outputs": []
    },
    {
      "cell_type": "code",
      "source": [
        "# Reading input files - domain and problem\n",
        "print (f\"Reading files - {domain_file}, problem - {problem_file}.\")\n",
        "\n",
        "data = {'domain': open(domain_file, 'r').read(), 'problem': open(problem_file, 'r').read()}"
      ],
      "metadata": {
        "id": "NsRcPhiXszg_"
      },
      "execution_count": null,
      "outputs": []
    },
    {
      "cell_type": "code",
      "source": [
        "# Reading problem\n",
        "print (f\"Calling planner with domain - {domain_file}, problem - {problem_file}. Output will be in - {output_file}\")\n",
        "\n",
        "resp = requests.post('http://solver.planning.domains/solve',\n",
        "                     verify=False, json=data).json()"
      ],
      "metadata": {
        "id": "feADYajls0uJ"
      },
      "execution_count": null,
      "outputs": []
    },
    {
      "cell_type": "code",
      "source": [
        "# Writing Result (plan)\n",
        "with open(output_file, 'w') as f:\n",
        "    f.write('\\n'.join([act['name'] for act in resp['result']['plan']]))"
      ],
      "metadata": {
        "id": "7l_m0LAOs2A2"
      },
      "execution_count": null,
      "outputs": []
    }
  ]
}
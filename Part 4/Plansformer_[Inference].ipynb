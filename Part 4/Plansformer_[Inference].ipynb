{
  "nbformat": 4,
  "nbformat_minor": 0,
  "metadata": {
    "colab": {
      "provenance": [],
      "gpuType": "A100"
    },
    "kernelspec": {
      "name": "python3",
      "display_name": "Python 3"
    },
    "language_info": {
      "name": "python"
    },
    "accelerator": "GPU"
  },
  "cells": [
    {
      "cell_type": "markdown",
      "source": [
        "This code is part of the lab forum at AAAI-24 on \"**Harnessing Large Language Models for Planning:** A Lab on Strategies for Success and Mitigation of Pitfalls.\"\n",
        "\n",
        "\n",
        "---\n",
        "\n",
        "\n",
        "\n",
        "In this code, we will see how to use Plansformer for inference."
      ],
      "metadata": {
        "id": "mzP4BRSZfVXz"
      }
    },
    {
      "cell_type": "code",
      "execution_count": 1,
      "metadata": {
        "id": "K0qavBHL3sK6",
        "colab": {
          "base_uri": "https://localhost:8080/"
        },
        "outputId": "eedb5757-fa07-417d-abc1-702c4bf15910"
      },
      "outputs": [
        {
          "output_type": "stream",
          "name": "stdout",
          "text": [
            "Requirement already satisfied: transformers in /usr/local/lib/python3.10/dist-packages (4.35.2)\n",
            "Requirement already satisfied: filelock in /usr/local/lib/python3.10/dist-packages (from transformers) (3.13.1)\n",
            "Requirement already satisfied: huggingface-hub<1.0,>=0.16.4 in /usr/local/lib/python3.10/dist-packages (from transformers) (0.20.3)\n",
            "Requirement already satisfied: numpy>=1.17 in /usr/local/lib/python3.10/dist-packages (from transformers) (1.25.2)\n",
            "Requirement already satisfied: packaging>=20.0 in /usr/local/lib/python3.10/dist-packages (from transformers) (23.2)\n",
            "Requirement already satisfied: pyyaml>=5.1 in /usr/local/lib/python3.10/dist-packages (from transformers) (6.0.1)\n",
            "Requirement already satisfied: regex!=2019.12.17 in /usr/local/lib/python3.10/dist-packages (from transformers) (2023.12.25)\n",
            "Requirement already satisfied: requests in /usr/local/lib/python3.10/dist-packages (from transformers) (2.31.0)\n",
            "Requirement already satisfied: tokenizers<0.19,>=0.14 in /usr/local/lib/python3.10/dist-packages (from transformers) (0.15.2)\n",
            "Requirement already satisfied: safetensors>=0.3.1 in /usr/local/lib/python3.10/dist-packages (from transformers) (0.4.2)\n",
            "Requirement already satisfied: tqdm>=4.27 in /usr/local/lib/python3.10/dist-packages (from transformers) (4.66.2)\n",
            "Requirement already satisfied: fsspec>=2023.5.0 in /usr/local/lib/python3.10/dist-packages (from huggingface-hub<1.0,>=0.16.4->transformers) (2023.6.0)\n",
            "Requirement already satisfied: typing-extensions>=3.7.4.3 in /usr/local/lib/python3.10/dist-packages (from huggingface-hub<1.0,>=0.16.4->transformers) (4.9.0)\n",
            "Requirement already satisfied: charset-normalizer<4,>=2 in /usr/local/lib/python3.10/dist-packages (from requests->transformers) (3.3.2)\n",
            "Requirement already satisfied: idna<4,>=2.5 in /usr/local/lib/python3.10/dist-packages (from requests->transformers) (3.6)\n",
            "Requirement already satisfied: urllib3<3,>=1.21.1 in /usr/local/lib/python3.10/dist-packages (from requests->transformers) (2.0.7)\n",
            "Requirement already satisfied: certifi>=2017.4.17 in /usr/local/lib/python3.10/dist-packages (from requests->transformers) (2024.2.2)\n",
            "Requirement already satisfied: sentencepiece in /usr/local/lib/python3.10/dist-packages (0.1.99)\n"
          ]
        }
      ],
      "source": [
        "!pip install transformers\n",
        "!pip install sentencepiece"
      ]
    },
    {
      "cell_type": "code",
      "source": [
        "# Downloading Plansformer from Dropbox\n",
        "!wget -O plansformer.zip https://www.dropbox.com/scl/fi/sc2syaax93i50bn14gn3w/plansformer_v3.zip?rlkey=a5qf2fanfn5028yx78drf1hic&dl=0"
      ],
      "metadata": {
        "colab": {
          "base_uri": "https://localhost:8080/"
        },
        "id": "1KkSBs6qfzP0",
        "outputId": "e1a2910f-0029-4c0c-e428-b2e0e4531b16"
      },
      "execution_count": 2,
      "outputs": [
        {
          "output_type": "stream",
          "name": "stdout",
          "text": [
            "--2024-02-16 01:23:05--  https://www.dropbox.com/scl/fi/sc2syaax93i50bn14gn3w/plansformer_v3.zip?rlkey=a5qf2fanfn5028yx78drf1hic\n",
            "Resolving www.dropbox.com (www.dropbox.com)... 162.125.81.18, 2620:100:6025:18::a27d:4512\n",
            "Connecting to www.dropbox.com (www.dropbox.com)|162.125.81.18|:443... connected.\n",
            "HTTP request sent, awaiting response... 302 Found\n",
            "Location: https://uc7486f58f2bc7736aca929e5cf1.dl.dropboxusercontent.com/cd/0/inline/CNVvhuPYC9Zcy0g76CWbNmGSNheXLqnngCwbcaphjxQo_dw_SC2nPSiZFp8o8v1hmu0AXID-r-62VmpaXqCbVxflPKHNG9Z_poKrOK6g1pmfpANEJ9S9urK9-IaK0JV9jACRe3Z2ne7dnoqnhbcau_GW/file# [following]\n",
            "--2024-02-16 01:23:06--  https://uc7486f58f2bc7736aca929e5cf1.dl.dropboxusercontent.com/cd/0/inline/CNVvhuPYC9Zcy0g76CWbNmGSNheXLqnngCwbcaphjxQo_dw_SC2nPSiZFp8o8v1hmu0AXID-r-62VmpaXqCbVxflPKHNG9Z_poKrOK6g1pmfpANEJ9S9urK9-IaK0JV9jACRe3Z2ne7dnoqnhbcau_GW/file\n",
            "Resolving uc7486f58f2bc7736aca929e5cf1.dl.dropboxusercontent.com (uc7486f58f2bc7736aca929e5cf1.dl.dropboxusercontent.com)... 162.125.69.15, 2620:100:6025:15::a27d:450f\n",
            "Connecting to uc7486f58f2bc7736aca929e5cf1.dl.dropboxusercontent.com (uc7486f58f2bc7736aca929e5cf1.dl.dropboxusercontent.com)|162.125.69.15|:443... connected.\n",
            "HTTP request sent, awaiting response... 302 Found\n",
            "Location: /cd/0/inline2/CNXEdFEyaLW9H5-oz1ePY80yRhZCioN6n_R0hH1pVAdghOlMSd_-O7kePBsnHnD_ClqL7UPlLxmtmmFgQEGLDSHgzHPXaE6GRIaHf6lRDycGPvFXD5pL2_Z5D0tH7lBrbZ6jcYshBq2I4wVNt9PTDwEyTlmI6Xpx6f-ZUCYMPRlG8comCcNTrpiZu-HamUSdPs1oKMtXUQLk3i-IHmO6Mv9gczhf0NohNqBA4zdCbuM6KprxE2IpLmLv-Hf1vuUrQl1Vcor1noV8_SDr_sC7OqLVZCb_PUlSBDJs4J7g3v1Y1JVrFftlWEswAsMVZ1stAafi2wHugqDMmu9q_6dxvXDR121U_lybqYblp-zQyEHQ08dIufn2wUY5eUpRFgXbX-I/file [following]\n",
            "--2024-02-16 01:23:07--  https://uc7486f58f2bc7736aca929e5cf1.dl.dropboxusercontent.com/cd/0/inline2/CNXEdFEyaLW9H5-oz1ePY80yRhZCioN6n_R0hH1pVAdghOlMSd_-O7kePBsnHnD_ClqL7UPlLxmtmmFgQEGLDSHgzHPXaE6GRIaHf6lRDycGPvFXD5pL2_Z5D0tH7lBrbZ6jcYshBq2I4wVNt9PTDwEyTlmI6Xpx6f-ZUCYMPRlG8comCcNTrpiZu-HamUSdPs1oKMtXUQLk3i-IHmO6Mv9gczhf0NohNqBA4zdCbuM6KprxE2IpLmLv-Hf1vuUrQl1Vcor1noV8_SDr_sC7OqLVZCb_PUlSBDJs4J7g3v1Y1JVrFftlWEswAsMVZ1stAafi2wHugqDMmu9q_6dxvXDR121U_lybqYblp-zQyEHQ08dIufn2wUY5eUpRFgXbX-I/file\n",
            "Reusing existing connection to uc7486f58f2bc7736aca929e5cf1.dl.dropboxusercontent.com:443.\n",
            "HTTP request sent, awaiting response... 200 OK\n",
            "Length: 845181945 (806M) [application/zip]\n",
            "Saving to: ‘plansformer.zip’\n",
            "\n",
            "plansformer.zip     100%[===================>] 806.03M  13.2MB/s    in 63s     \n",
            "\n",
            "2024-02-16 01:24:10 (12.8 MB/s) - ‘plansformer.zip’ saved [845181945/845181945]\n",
            "\n"
          ]
        }
      ]
    },
    {
      "cell_type": "code",
      "source": [
        "!unzip plansformer.zip -d ./"
      ],
      "metadata": {
        "colab": {
          "base_uri": "https://localhost:8080/"
        },
        "id": "Mn6RcwJYgDMH",
        "outputId": "232de6a8-7908-4b9f-c87f-4b6ba3483a72"
      },
      "execution_count": 3,
      "outputs": [
        {
          "output_type": "stream",
          "name": "stdout",
          "text": [
            "Archive:  plansformer.zip\n",
            "   creating: ./codet5-base/\n",
            "  inflating: ./codet5-base/predictions.csv  \n",
            "   creating: ./codet5-base/model_files/\n",
            "  inflating: ./codet5-base/model_files/pytorch_model.bin  \n",
            "  inflating: ./codet5-base/model_files/tokenizer_config.json  \n",
            "  inflating: ./codet5-base/model_files/merges.txt  \n",
            "  inflating: ./codet5-base/model_files/config.json  \n",
            "  inflating: ./codet5-base/model_files/special_tokens_map.json  \n",
            "  inflating: ./codet5-base/model_files/vocab.json  \n",
            "  inflating: ./codet5-base/model_files/generation_config.json  \n",
            "  inflating: ./codet5-base/logs.txt  \n"
          ]
        }
      ]
    },
    {
      "cell_type": "code",
      "source": [
        "model_path = \"codet5-base/model_files\""
      ],
      "metadata": {
        "id": "VlyJEgG0gKDr"
      },
      "execution_count": 4,
      "outputs": []
    },
    {
      "cell_type": "code",
      "source": [
        "from transformers import RobertaTokenizer, T5ForConditionalGeneration\n",
        "import torch\n",
        "from torch import cuda\n",
        "from IPython.display import display, HTML\n",
        "\n",
        "device = 'cuda' if cuda.is_available() else 'cpu'"
      ],
      "metadata": {
        "id": "6CZRhRCdg1ar"
      },
      "execution_count": 22,
      "outputs": []
    },
    {
      "cell_type": "code",
      "source": [
        "tokenizer = RobertaTokenizer.from_pretrained(model_path, local_files_only = True)\n",
        "model = T5ForConditionalGeneration.from_pretrained(model_path, local_files_only = True)\n",
        "model = model.to(device)"
      ],
      "metadata": {
        "id": "Fy5jbwEtg7Wk"
      },
      "execution_count": 6,
      "outputs": []
    },
    {
      "cell_type": "code",
      "source": [
        "problem = \"\"\"\n",
        "<GOAL>ontable b1, clear b1, ontable b2, clear b2, ontable b3, clear b3, ontable b4, clear b4\n",
        "<INIT>handempty, ontable b1, on b2 b3, clear b2, ontable b3, on b4 b1, clear b4\n",
        "<ACTION> pick-up <PRE> clear x, ontable x, handempty <EFFECT> not ontable x, not clear x, not handempty, holding x\n",
        "<ACTION> put-down <PRE> holding x <EFFECT> not holding x, clear x, handempty, ontable x\n",
        "<ACTION> stack <PRE> holding x, clear y <EFFECT> not holding x, not clear y, clear x, handempty, on x y\n",
        "<ACTION> unstack <PRE> on x y, clear x, handempty <EFFECT> holding x, clear y, not clear x, not handempty, not on x y\"\n",
        "\"\"\""
      ],
      "metadata": {
        "id": "1t1qe0RmhFvs"
      },
      "execution_count": 7,
      "outputs": []
    },
    {
      "cell_type": "code",
      "source": [
        "# Replacing markers with styled HTML spans for better visualization of the problem\n",
        "formatted_problem = problem\\\n",
        "    .replace(\"<GOAL>\", \"<span class='goal'>GOAL:</span>\")\\\n",
        "    .replace(\"<INIT>\", \"<br><span class='init'>INIT:</span>\")\\\n",
        "    .replace(\"<ACTION>\", \"<br><span class='action'>ACTION:</span><br>\")\\\n",
        "    .replace(\"<PRE>\", \"<span class='pre'>PRE:</span>\")\\\n",
        "    .replace(\"<EFFECT>\", \"<span class='effect'>EFFECT:</span>\")\n",
        "\n",
        "# Adding CSS styles\n",
        "styles = \"\"\"\n",
        "<style>\n",
        ".goal { color: #f1c40f; font-weight: bold; }\n",
        ".init { color: #16a085; font-weight: bold; }\n",
        ".action { color: #2980b9; font-weight: bold; }\n",
        ".pre { color: #8e44ad; font-weight: bold; }\n",
        ".effect { color: #c0392b; font-weight: bold; }\n",
        "span { margin-right: 5px; }\n",
        "body { font-family: Arial, sans-serif; font-size: 14px; }\n",
        "</style>\n",
        "\"\"\"\n",
        "\n",
        "# Display with HTML and styles\n",
        "display(HTML(styles + f'<div>{formatted_problem}</div>'))"
      ],
      "metadata": {
        "colab": {
          "base_uri": "https://localhost:8080/",
          "height": 225
        },
        "id": "VLPr1KpTjAwq",
        "outputId": "d3afcc58-2bda-4bed-9534-f34c573b8958"
      },
      "execution_count": 23,
      "outputs": [
        {
          "output_type": "display_data",
          "data": {
            "text/plain": [
              "<IPython.core.display.HTML object>"
            ],
            "text/html": [
              "\n",
              "<style>\n",
              ".goal { color: #f1c40f; font-weight: bold; }\n",
              ".init { color: #16a085; font-weight: bold; }\n",
              ".action { color: #2980b9; font-weight: bold; }\n",
              ".pre { color: #8e44ad; font-weight: bold; }\n",
              ".effect { color: #c0392b; font-weight: bold; }\n",
              "span { margin-right: 5px; }\n",
              "body { font-family: Arial, sans-serif; font-size: 14px; }\n",
              "</style>\n",
              "<div>\n",
              "<span class='goal'>GOAL:</span>ontable b1, clear b1, ontable b2, clear b2, ontable b3, clear b3, ontable b4, clear b4\n",
              "<br><span class='init'>INIT:</span>handempty, ontable b1, on b2 b3, clear b2, ontable b3, on b4 b1, clear b4\n",
              "<br><span class='action'>ACTION:</span><br> pick-up <span class='pre'>PRE:</span> clear x, ontable x, handempty <span class='effect'>EFFECT:</span> not ontable x, not clear x, not handempty, holding x \n",
              "<br><span class='action'>ACTION:</span><br> put-down <span class='pre'>PRE:</span> holding x <span class='effect'>EFFECT:</span> not holding x, clear x, handempty, ontable x \n",
              "<br><span class='action'>ACTION:</span><br> stack <span class='pre'>PRE:</span> holding x, clear y <span class='effect'>EFFECT:</span> not holding x, not clear y, clear x, handempty, on x y \n",
              "<br><span class='action'>ACTION:</span><br> unstack <span class='pre'>PRE:</span> on x y, clear x, handempty <span class='effect'>EFFECT:</span> holding x, clear y, not clear x, not handempty, not on x y\n",
              "</div>"
            ]
          },
          "metadata": {}
        }
      ]
    },
    {
      "cell_type": "code",
      "source": [
        "input_ids = tokenizer.encode(problem, return_tensors='pt').to(device, dtype = torch.long)\n",
        "generated_ids = model.generate(\n",
        "input_ids, num_beams = 2, max_length=input_ids.shape[-1] + 2,\n",
        "repetition_penalty = 2.5, length_penalty = 1.0,\n",
        "early_stopping=False)\n",
        "predicted_plan = tokenizer.decode(generated_ids[0], skip_special_tokens=True)"
      ],
      "metadata": {
        "id": "B3IpBDrrg_Gv"
      },
      "execution_count": 24,
      "outputs": []
    },
    {
      "cell_type": "code",
      "source": [
        "# Printing the plan generated by Plansformer for the given problem\n",
        "predicted_plan"
      ],
      "metadata": {
        "colab": {
          "base_uri": "https://localhost:8080/",
          "height": 35
        },
        "id": "LTirilHsk2xM",
        "outputId": "6ff9cecf-2916-4a0e-a1a9-6c627fd6bff0"
      },
      "execution_count": 25,
      "outputs": [
        {
          "output_type": "execute_result",
          "data": {
            "text/plain": [
              "'unstack b2 b3, put-down b2, unstack b4 b1, put-down b4'"
            ],
            "application/vnd.google.colaboratory.intrinsic+json": {
              "type": "string"
            }
          },
          "metadata": {},
          "execution_count": 25
        }
      ]
    }
  ]
}
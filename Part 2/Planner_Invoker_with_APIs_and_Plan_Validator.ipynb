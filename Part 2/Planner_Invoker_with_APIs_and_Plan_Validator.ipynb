{
  "cells": [
    {
      "cell_type": "markdown",
      "metadata": {
        "id": "aPevmJ0vrxAB"
      },
      "source": [
        "This code is part of the lab forum at AAAI-24 on \"**Harnessing Large Language Models for Planning:** A Lab on Strategies for Success and Mitigation of Pitfalls.\"\n",
        "\n",
        "\n",
        "---\n",
        "\n",
        "\n",
        "\n",
        "In this code, we will see how to invoke a planner and validator using API calls from planning.domains and Unified Planning."
      ]
    },
    {
      "cell_type": "code",
      "execution_count": null,
      "metadata": {
        "id": "gy_NO9TurndZ"
      },
      "outputs": [],
      "source": [
        "# Created by Biplav Srivastava\n",
        "# See more examples of problems in:\n",
        "# - https://github.com/AI-Planning/classical-domains/tree/main/classical\n",
        "# - https://github.com/ai4society/planning-resources/tree/main/hanoi"
      ]
    },
    {
      "cell_type": "markdown",
      "metadata": {
        "id": "87a6iHTO5oiU"
      },
      "source": [
        "### Planner Invoker with planning.domains API"
      ]
    },
    {
      "cell_type": "code",
      "execution_count": null,
      "metadata": {
        "id": "j13MC5CbswEI"
      },
      "outputs": [],
      "source": [
        "# Based on http://solver.planning.domains/\n",
        "import requests"
      ]
    },
    {
      "cell_type": "code",
      "execution_count": null,
      "metadata": {
        "id": "J5kAZDfmsx_N"
      },
      "outputs": [],
      "source": [
        "# domains from - https://github.com/AI-Planning/classical-domains/tree/master/classical/blocks\n",
        "# stored locally\n",
        "domain_file = \"data/domain-elev.pddl\"\n",
        "problem_file = \"data/problem-elev.pddl\"\n",
        "output_file = \"data/plan.txt\""
      ]
    },
    {
      "cell_type": "code",
      "execution_count": null,
      "metadata": {
        "id": "v08EEKyssykn"
      },
      "outputs": [],
      "source": [
        "import requests, sys"
      ]
    },
    {
      "cell_type": "code",
      "execution_count": null,
      "metadata": {
        "id": "NsRcPhiXszg_"
      },
      "outputs": [],
      "source": [
        "# Reading input files - domain and problem\n",
        "print (f\"Reading files - {domain_file}, problem - {problem_file}.\")\n",
        "\n",
        "data = {'domain': open(domain_file, 'r').read(), 'problem': open(problem_file, 'r').read()}"
      ]
    },
    {
      "cell_type": "code",
      "execution_count": null,
      "metadata": {
        "id": "feADYajls0uJ"
      },
      "outputs": [],
      "source": [
        "# Reading problem\n",
        "print (f\"Calling planner with domain - {domain_file}, problem - {problem_file}. Output will be in - {output_file}\")\n",
        "\n",
        "resp = requests.post('http://solver.planning.domains/solve',\n",
        "                     verify=False, json=data).json()"
      ]
    },
    {
      "cell_type": "code",
      "execution_count": null,
      "metadata": {
        "id": "7l_m0LAOs2A2"
      },
      "outputs": [],
      "source": [
        "# Writing Result (plan)\n",
        "with open(output_file, 'w') as f:\n",
        "    f.write('\\n'.join([act['name'] for act in resp['result']['plan']]))"
      ]
    },
    {
      "cell_type": "markdown",
      "metadata": {
        "id": "r_nbBubh5syp"
      },
      "source": [
        "### Planner Invoker and Plan Validator with Unified Planning API\n",
        "\n",
        "Documentation for Unified Planning - https://unified-planning.readthedocs.io/en/latest/"
      ]
    },
    {
      "cell_type": "code",
      "execution_count": 12,
      "metadata": {
        "colab": {
          "base_uri": "https://localhost:8080/"
        },
        "id": "vhU96PoLGNwu",
        "outputId": "ac3db65d-ad7a-428b-9aad-95e0e29e0c90"
      },
      "outputs": [
        {
          "name": "stdout",
          "output_type": "stream",
          "text": [
            "Collecting unified-planning\n",
            "  Downloading unified_planning-1.1.0.1.dev1-py3-none-any.whl (706 kB)\n",
            "\u001b[2K     \u001b[90m━━━━━━━━━━━━━━━━━━━━━━━━━━━━━━━━━━━━━━━━\u001b[0m \u001b[32m706.7/706.7 kB\u001b[0m \u001b[31m8.4 MB/s\u001b[0m eta \u001b[36m0:00:00\u001b[0m\n",
            "\u001b[?25hRequirement already satisfied: pyparsing in /usr/local/lib/python3.10/dist-packages (from unified-planning) (3.1.1)\n",
            "Requirement already satisfied: networkx in /usr/local/lib/python3.10/dist-packages (from unified-planning) (3.2.1)\n",
            "Collecting ConfigSpace (from unified-planning)\n",
            "  Downloading ConfigSpace-0.7.1-cp310-cp310-manylinux_2_17_x86_64.manylinux2014_x86_64.whl (6.3 MB)\n",
            "\u001b[2K     \u001b[90m━━━━━━━━━━━━━━━━━━━━━━━━━━━━━━━━━━━━━━━━\u001b[0m \u001b[32m6.3/6.3 MB\u001b[0m \u001b[31m17.6 MB/s\u001b[0m eta \u001b[36m0:00:00\u001b[0m\n",
            "\u001b[?25hRequirement already satisfied: numpy in /usr/local/lib/python3.10/dist-packages (from ConfigSpace->unified-planning) (1.25.2)\n",
            "Requirement already satisfied: scipy in /usr/local/lib/python3.10/dist-packages (from ConfigSpace->unified-planning) (1.11.4)\n",
            "Requirement already satisfied: typing-extensions in /usr/local/lib/python3.10/dist-packages (from ConfigSpace->unified-planning) (4.9.0)\n",
            "Requirement already satisfied: more-itertools in /usr/local/lib/python3.10/dist-packages (from ConfigSpace->unified-planning) (10.1.0)\n",
            "Installing collected packages: ConfigSpace, unified-planning\n",
            "Successfully installed ConfigSpace-0.7.1 unified-planning-1.1.0.1.dev1\n"
          ]
        }
      ],
      "source": [
        "!pip install --pre unified-planning"
      ]
    },
    {
      "cell_type": "code",
      "execution_count": 13,
      "metadata": {
        "colab": {
          "base_uri": "https://localhost:8080/"
        },
        "id": "PJOGOLBPGQPd",
        "outputId": "9a821d5e-5576-470d-f59f-4a0dbe4c82d7"
      },
      "outputs": [
        {
          "name": "stdout",
          "output_type": "stream",
          "text": [
            "Requirement already satisfied: unified-planning[pyperplan,tamer] in /usr/local/lib/python3.10/dist-packages (1.1.0.1.dev1)\n",
            "Requirement already satisfied: pyparsing in /usr/local/lib/python3.10/dist-packages (from unified-planning[pyperplan,tamer]) (3.1.1)\n",
            "Requirement already satisfied: networkx in /usr/local/lib/python3.10/dist-packages (from unified-planning[pyperplan,tamer]) (3.2.1)\n",
            "Requirement already satisfied: ConfigSpace in /usr/local/lib/python3.10/dist-packages (from unified-planning[pyperplan,tamer]) (0.7.1)\n",
            "Collecting up-pyperplan~=1.1.0 (from unified-planning[pyperplan,tamer])\n",
            "  Downloading up_pyperplan-1.1.0-py3-none-any.whl (12 kB)\n",
            "Collecting up-tamer~=1.1.0 (from unified-planning[pyperplan,tamer])\n",
            "  Downloading up_tamer-1.1.1-py3-none-any.whl (13 kB)\n",
            "Collecting pyperplan==2.1 (from up-pyperplan~=1.1.0->unified-planning[pyperplan,tamer])\n",
            "  Downloading pyperplan-2.1-py2.py3-none-any.whl (69 kB)\n",
            "\u001b[2K     \u001b[90m━━━━━━━━━━━━━━━━━━━━━━━━━━━━━━━━━━━━━━━━\u001b[0m \u001b[32m69.5/69.5 kB\u001b[0m \u001b[31m3.7 MB/s\u001b[0m eta \u001b[36m0:00:00\u001b[0m\n",
            "\u001b[?25hRequirement already satisfied: wheel in /usr/local/lib/python3.10/dist-packages (from pyperplan==2.1->up-pyperplan~=1.1.0->unified-planning[pyperplan,tamer]) (0.42.0)\n",
            "Collecting pytamer==0.1.18 (from up-tamer~=1.1.0->unified-planning[pyperplan,tamer])\n",
            "  Downloading pytamer-0.1.18-cp310-cp310-manylinux_2_17_x86_64.manylinux2014_x86_64.whl (6.0 MB)\n",
            "\u001b[2K     \u001b[90m━━━━━━━━━━━━━━━━━━━━━━━━━━━━━━━━━━━━━━━━\u001b[0m \u001b[32m6.0/6.0 MB\u001b[0m \u001b[31m15.0 MB/s\u001b[0m eta \u001b[36m0:00:00\u001b[0m\n",
            "\u001b[?25hRequirement already satisfied: numpy in /usr/local/lib/python3.10/dist-packages (from ConfigSpace->unified-planning[pyperplan,tamer]) (1.25.2)\n",
            "Requirement already satisfied: scipy in /usr/local/lib/python3.10/dist-packages (from ConfigSpace->unified-planning[pyperplan,tamer]) (1.11.4)\n",
            "Requirement already satisfied: typing-extensions in /usr/local/lib/python3.10/dist-packages (from ConfigSpace->unified-planning[pyperplan,tamer]) (4.9.0)\n",
            "Requirement already satisfied: more-itertools in /usr/local/lib/python3.10/dist-packages (from ConfigSpace->unified-planning[pyperplan,tamer]) (10.1.0)\n",
            "Installing collected packages: pytamer, pyperplan, up-tamer, up-pyperplan\n",
            "Successfully installed pyperplan-2.1 pytamer-0.1.18 up-pyperplan-1.1.0 up-tamer-1.1.1\n"
          ]
        }
      ],
      "source": [
        "!pip install --pre unified-planning[pyperplan,tamer]"
      ]
    },
    {
      "cell_type": "code",
      "execution_count": 14,
      "metadata": {
        "id": "PCMhpebeGSFy"
      },
      "outputs": [],
      "source": [
        "import unified_planning\n",
        "from unified_planning.shortcuts import *"
      ]
    },
    {
      "cell_type": "code",
      "execution_count": 19,
      "metadata": {
        "id": "VRYIO5OvGVIf"
      },
      "outputs": [],
      "source": [
        "# Importing the PDDLReader and PDDLWriter\n",
        "from unified_planning.io import PDDLReader, PDDLWriter\n",
        "\n",
        "# Creating a PDDL reader\n",
        "reader = PDDLReader()\n",
        "\n",
        "# Parsing a PDDL problem from file\n",
        "problem = reader.parse_problem(\n",
        "    \"./domain.pddl\",\n",
        "    \"./problem.pddl\",\n",
        ")"
      ]
    },
    {
      "cell_type": "code",
      "execution_count": 20,
      "metadata": {
        "colab": {
          "base_uri": "https://localhost:8080/"
        },
        "id": "FzOEbjIhGfJB",
        "outputId": "f7d0e469-c7de-4b2b-f60a-085da69ebd53"
      },
      "outputs": [
        {
          "data": {
            "text/plain": [
              "ProblemKind(['ACTION_BASED', 'FLAT_TYPING'], version=2)"
            ]
          },
          "execution_count": 20,
          "metadata": {},
          "output_type": "execute_result"
        }
      ],
      "source": [
        "problem.kind"
      ]
    },
    {
      "cell_type": "code",
      "execution_count": 21,
      "metadata": {
        "colab": {
          "base_uri": "https://localhost:8080/"
        },
        "id": "N2V_j-bpGgtF",
        "outputId": "1611de85-c666-40bf-a3d2-188db960618f"
      },
      "outputs": [
        {
          "name": "stdout",
          "output_type": "stream",
          "text": [
            "\u001b[96m\u001b[1mNOTE: To disable printing of planning engine credits, add this line to your code: `up.shortcuts.get_environment().credits_stream = None`\n",
            "\u001b[0m\u001b[96m  *** Credits ***\n",
            "\u001b[0m\u001b[96m  * In operation mode `OneshotPlanner` at line 1 of `<ipython-input-21-5b1cb538ebee>`, \u001b[0m\u001b[96myou are using the following planning engine:\n",
            "\u001b[0m\u001b[96m  * Engine name: pyperplan\n",
            "  * Developers:  Albert-Ludwigs-Universität Freiburg (Yusra Alkhazraji, Matthias Frorath, Markus Grützner, Malte Helmert, Thomas Liebetraut, Robert Mattmüller, Manuela Ortlieb, Jendrik Seipp, Tobias Springenberg, Philip Stahl, Jan Wülfing)\n",
            "\u001b[0m\u001b[96m  * Description: \u001b[0m\u001b[96mPyperplan is a lightweight STRIPS planner written in Python.\u001b[0m\u001b[96m\n",
            "\u001b[0m\u001b[96m\n",
            "\u001b[0mPyperplan returned: SequentialPlan:\n",
            "    unstack(c, e)\n",
            "    stack(c, f)\n",
            "    unstack(e, j)\n",
            "    put-down(e)\n",
            "    unstack(j, b)\n",
            "    stack(j, e)\n",
            "    unstack(b, g)\n",
            "    put-down(b)\n",
            "    unstack(g, h)\n",
            "    put-down(g)\n",
            "    unstack(h, a)\n",
            "    stack(h, b)\n",
            "    unstack(a, d)\n",
            "    put-down(a)\n",
            "    unstack(d, i)\n",
            "    stack(d, c)\n",
            "    pick-up(g)\n",
            "    stack(g, i)\n",
            "    pick-up(a)\n",
            "    stack(a, g)\n",
            "    unstack(h, b)\n",
            "    put-down(h)\n",
            "    pick-up(b)\n",
            "    stack(b, a)\n",
            "    pick-up(h)\n",
            "    stack(h, b)\n",
            "    unstack(j, e)\n",
            "    put-down(j)\n",
            "    pick-up(e)\n",
            "    stack(e, h)\n",
            "    pick-up(j)\n",
            "    stack(j, e)\n",
            "    unstack(d, c)\n",
            "    put-down(d)\n",
            "    unstack(c, f)\n",
            "    put-down(c)\n",
            "    pick-up(d)\n",
            "    stack(d, c)\n",
            "    pick-up(f)\n",
            "    stack(f, j)\n",
            "    unstack(d, c)\n",
            "    put-down(d)\n",
            "    pick-up(c)\n",
            "    stack(c, f)\n",
            "    pick-up(d)\n",
            "    stack(d, c)\n"
          ]
        }
      ],
      "source": [
        "with OneshotPlanner(problem_kind=problem.kind) as planner:\n",
        "    result = planner.solve(problem)\n",
        "    print(\"%s returned: %s\" % (planner.name, result.plan))"
      ]
    },
    {
      "cell_type": "code",
      "execution_count": 22,
      "metadata": {
        "colab": {
          "base_uri": "https://localhost:8080/"
        },
        "id": "MOAjvc5sGioZ",
        "outputId": "81fbaa1d-b9f9-4a67-bcc6-55f8db83a03d"
      },
      "outputs": [
        {
          "name": "stdout",
          "output_type": "stream",
          "text": [
            "\u001b[96m  *** Credits ***\n",
            "\u001b[0m\u001b[96m  * In operation mode `PlanValidator` at line 2 of `<ipython-input-22-af6de1fb604a>`, \u001b[0m\u001b[96myou are using the following planning engine:\n",
            "\u001b[0m\u001b[96m  * Engine name: Tamer\n",
            "  * Developers:  FBK Tamer Development Team\n",
            "\u001b[0m\u001b[96m  * Description: \u001b[0m\u001b[96mTamer offers the capability to generate a plan for classical, numerical and temporal problems.\n",
            "  *              For those kind of problems tamer also offers the possibility of validating a submitted plan.\u001b[0m\u001b[96m\n",
            "\u001b[0m\u001b[96m\n",
            "\u001b[0mThe plan is valid\n"
          ]
        }
      ],
      "source": [
        "plan = result.plan\n",
        "with PlanValidator(problem_kind=problem.kind, plan_kind=plan.kind) as validator:\n",
        "    if validator.validate(problem, plan):\n",
        "        print('The plan is valid')\n",
        "    else:\n",
        "        print('The plan is invalid')"
      ]
    }
  ],
  "metadata": {
    "colab": {
      "provenance": []
    },
    "kernelspec": {
      "display_name": "Python 3",
      "name": "python3"
    },
    "language_info": {
      "name": "python"
    }
  },
  "nbformat": 4,
  "nbformat_minor": 0
}
